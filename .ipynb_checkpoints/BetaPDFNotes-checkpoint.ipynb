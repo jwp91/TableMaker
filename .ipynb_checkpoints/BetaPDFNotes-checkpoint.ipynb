{
 "cells": [
  {
   "cell_type": "markdown",
   "metadata": {},
   "source": [
    "## Binomial Distribution\n",
    "* (useful for understanding beta distribution)\n",
    "* Describes the probabilities of success or failure in an experiment with 2 possible values that is repeated multiple times. Examples:\n",
    "    *  Simple: Coin toss. \"How likely is it to toss heads 5/9 times?\n",
    "    *  Complex: Sandwiches. \"If there's a 70% likelihood that a given customer in the shop buys a chicken sandwich, what's the probability that 2/3 next customers choose chicken?\"\n",
    "*  Probability of a scenario where the desired outcome occurrs = $P(X) = p^k(1-p)^{(n-k)}$ where\n",
    "    * **p** is the probability of the desired outcome (70%)\n",
    "    * __k__ is the number of those outcomes we want (2)\n",
    "    * **n** is the total number of trials (3)\n",
    "* Possible # of scenarios with desired outcome = ${n \\choose k} = \\frac{n!}{k!(n-k)!} $ where\n",
    "    * **k** is the number of outcomes we're selecting (2) from\n",
    "    * **n** the total number of outcomes (3)\n",
    "### Generalized Binomial Probability Formula:\n",
    "   $$P(\\mathrm{k~out~of~n}) = \\frac{n!}{k!(n-k)!}p^k(1-p)^{(n-k)}$$\n",
    "\n",
    " * Variance: $\\sigma^2 = np(1-p)$ where\n",
    "     * n = Number of trials\n",
    "     * p = Probability of success\n",
    " * Std. Deviation := $\\sqrt{\\sigma^2} = \\sigma$"
   ]
  },
  {
   "cell_type": "markdown",
   "metadata": {
    "tags": []
   },
   "source": [
    "## Gamma Function\n",
    "* Function \"stitching together\" all integer values of the factorial function:\n",
    "$$ \\Gamma(n) = (n-1)! = \\int_0^\\infty t^{z-1}e^{-t}dt $$\n",
    "* The derivation of the formula is nasty, but the plot looks like this:\n",
    "<div>\n",
    "    <p style=\"text-align:center;\"><img src = https://upload.wikimedia.org/wikipedia/commons/5/52/Gamma_plot.svg alt = \"Gamma Function\" width = \"400\" ></p>\n",
    "</div>\n",
    "\n"
   ]
  },
  {
   "cell_type": "markdown",
   "metadata": {
    "tags": []
   },
   "source": [
    "## Beta Function\n",
    "The Beta Function is defined as\n",
    "$$ B(\\alpha, \\beta) = \\int_0^1t^{\\alpha-1}(1-t)^{\\beta-1}dt = \\frac{\\Gamma(\\alpha)\\Gamma(\\beta)}{\\Gamma(\\alpha + \\beta)}$$\n",
    "where $z_1, z_2 > 0$. It is useful for constructing the Beta Distribution:\n",
    "## Beta Distribution\n",
    "$$f(x; \\alpha, \\beta) = \\frac{1}{B(\\alpha, \\beta)}~x^{\\alpha-1}(1-x)^{\\beta-1} = \\frac{\\Gamma(\\alpha + \\beta)}{\\Gamma(\\alpha)\\Gamma(\\beta)}~x^{\\alpha-1}(1-x)^{\\beta-1}$$\n",
    "* Reading each piece:\n",
    "    * $x^{\\alpha-1}(1-x)^{\\beta-1}$ describes the likelihood of x occurring\n",
    "    * $\\frac{\\Gamma(\\alpha + \\beta)}{\\Gamma(\\alpha)\\Gamma(\\beta)} = \\frac{1}{B(\\alpha, \\beta)}$ is a normalizing factor and ensures the total probability is 1\n",
    "* Key difference between beta and binomial distributions: \n",
    "    * Binomial is a function of desired outcomes (fixed probability) and the number of possible outcomes\n",
    "    * Beta is a function of the probability of two outcomes. \n",
    "* Conceptualizing: \n",
    "    * $\\alpha - 1$ can be thought of as the # of observed successes\n",
    "    * $\\beta -1$ can be thought of as the # of observed failures\n",
    "    * As $\\alpha, \\beta$ increase, the PDF narrows because of increased certainty about the system\n",
    "![Animated Beta Distribution PDF](https://upload.wikimedia.org/wikipedia/commons/7/78/PDF_of_the_Beta_distribution.gif)\n",
    "\n",
    "<div>\n",
    "    <p style=\"text-align:center;\"><img src = https://upload.wikimedia.org/wikipedia/commons/f/f3/Beta_distribution_pdf.svg alt = \"Beta Distribution PDF - Set Values\" width = \"400\" ></p>\n",
    "</div>\n",
    "\n",
    "[Beta Distribution Calculator](https://homepage.divms.uiowa.edu/~mbognar/applets/beta.html)"
   ]
  },
  {
   "cell_type": "markdown",
   "metadata": {},
   "source": [
    "\n",
    "\n",
    "## *Sources:*\n",
    "* https://towardsdatascience.com/beta-distribution-intuition-examples-and-derivation-cf00f4db57af\n",
    "* https://en.wikipedia.org/wiki/Beta_distribution\n",
    "* https://en.wikipedia.org/wiki/Beta_function\n",
    "* https://en.wikipedia.org/wiki/Gamma_function"
   ]
  },
  {
   "cell_type": "code",
   "execution_count": null,
   "metadata": {},
   "outputs": [],
   "source": []
  }
 ],
 "metadata": {
  "kernelspec": {
   "display_name": "Python 3 (ipykernel)",
   "language": "python",
   "name": "python3"
  },
  "language_info": {
   "codemirror_mode": {
    "name": "ipython",
    "version": 3
   },
   "file_extension": ".py",
   "mimetype": "text/x-python",
   "name": "python",
   "nbconvert_exporter": "python",
   "pygments_lexer": "ipython3",
   "version": "3.9.13"
  }
 },
 "nbformat": 4,
 "nbformat_minor": 4
}
