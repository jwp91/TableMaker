import numpy as np
import matplotlib.pyplot as plt
%matplotlib inline
import cantera as ct


data = np.loadtxt('data')
gas = ct.Solution('gri30.yaml')


f = data[:,0]
T = data[:,1]
Y = data[:,2:11]
P = 101325

nf = len(f)

spNames = ['O2', 'N2', 'H2', 'H2O', 'CH4', 'CO', 'CO2', 'OH', 'NO']
isp = [gas.species_index(s) for s in spNames]

rho = np.zeros(nf)
for i in range(nf):
    yy = np.zeros(gas.n_species)
    yy[isp] = Y[i,:]
    gas.TPY = T[i], P, yy
    rho[i] = gas.density

rhoAv = np.mean(rho)

fFav = np.mean(f*rho)/rhoAv
fFrms = np.sqrt(np.mean(rho*(f-fFav)**2)/rhoAv)
    



