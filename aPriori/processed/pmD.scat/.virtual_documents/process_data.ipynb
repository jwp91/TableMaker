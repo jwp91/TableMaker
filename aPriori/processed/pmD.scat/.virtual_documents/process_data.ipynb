import numpy as np
import matplotlib.pyplot as plt
%matplotlib inline
import glob as glob
import cantera as ct


gas = ct.Solution('gri30.yaml')
files = glob.glob("*.Yall")

for file in files:
    print(file)
    data = np.loadtxt(file)
    F = data[:,0]
    T = data[:,1]
    Y = data[:, 2:11]
    P = 101325.0
    rs = np.sort(list(set(data[:,-1])))
    for r in rs:
        idata_r = np.where(data[:, -1] == r)
        
        data_r = data[idata_r,:]
        break
    break
        
        



data[idata_r, 0]
data_r[0,:]


f = data[:,0]
T = data[:,1]
Y = data[:,2:11]
P = 101325

nf = len(f)

spNames = ['O2', 'N2', 'H2', 'H2O', 'CH4', 'CO', 'CO2', 'OH', 'NO']
isp = [gas.species_index(s) for s in spNames]

#------ get rho

rho = np.zeros(nf)
for i in range(nf):
    yy = np.zeros(gas.n_species)
    yy[isp] = Y[i,:]
    gas.TPY = T[i], P, yy
    rho[i] = gas.density

#------ get Favre average

rhoAv = np.mean(rho)

fFav = np.mean(f*rho)/rhoAv
fFrms = np.sqrt(np.mean(rho*(f-fFav)**2)/rhoAv)
    
