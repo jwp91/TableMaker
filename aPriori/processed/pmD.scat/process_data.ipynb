{
 "cells": [
  {
   "cell_type": "code",
   "execution_count": 1,
   "id": "7ec797b5-c84f-46a6-9aef-4777c7309270",
   "metadata": {},
   "outputs": [],
   "source": [
    "import numpy as np\n",
    "import matplotlib.pyplot as plt\n",
    "%matplotlib inline\n",
    "import glob as glob\n",
    "import cantera as ct"
   ]
  },
  {
   "cell_type": "code",
   "execution_count": 2,
   "id": "317d016b-cb40-4d0a-93ef-58869de43531",
   "metadata": {},
   "outputs": [
    {
     "name": "stdout",
     "output_type": "stream",
     "text": [
      "\n",
      " C075.Yall\n",
      "   r: -2.3  -1.3  -0.3  0.7  1.7  2.7  3.7  4.7  5.7  6.7  7.7  8.7  9.7  10.7  11.7  12.7  13.7  \n",
      " C15.Yall\n",
      "   r: -4.0  -2.0  0.0  2.0  4.0  6.0  8.0  10.0  12.0  14.0  16.0  18.0  20.0  \n",
      " C30.Yall\n",
      "   r: -6.0  -3.0  0.0  3.0  6.0  9.0  12.0  15.0  18.0  21.0  24.0  27.0  30.0  36.0  \n",
      " C45.Yall\n",
      "   r: -8.0  -4.0  0.0  4.0  8.0  12.0  16.0  20.0  24.0  28.0  32.0  36.0  44.0  52.0  \n",
      " C60.Yall\n",
      "   r: -10.0  -5.0  0.0  5.0  10.0  15.0  20.0  25.0  30.0  40.0  50.0  60.0  70.0  \n",
      " C75.Yall\n",
      "   r: -10.0  0.0  10.0  20.0  30.0  40.0  50.0  60.0  70.0  80.0  "
     ]
    }
   ],
   "source": [
    "gas = ct.Solution('gri30.yaml')\n",
    "files = glob.glob(\"*.Yall\")\n",
    "files = sorted(files)\n",
    "P = 101325.0\n",
    "\n",
    "spNames = ['O2', 'N2', 'H2', 'H2O', 'CH4', 'CO', 'CO2', 'OH', 'NO']\n",
    "nsp = len(spNames)\n",
    "isp = [gas.species_index(s) for s in spNames]\n",
    "\n",
    "for file in files:\n",
    "    print(\"\\n\", file, end='')\n",
    "    data = np.loadtxt(file)\n",
    "    rs = np.sort(list(set(data[:,-1])))\n",
    "    print(\"\\n   r: \", end='')\n",
    "\n",
    "    nrs = len(rs)\n",
    "\n",
    "    F_fav = np.zeros(nrs)\n",
    "    F_frms = np.zeros(nrs)\n",
    "    T_fav = np.zeros(nrs)\n",
    "    C_fav = np.zeros(nrs)\n",
    "    H_fav = np.zeros(nrs)\n",
    "    Y_fav = np.zeros((nrs, nsp))\n",
    "    \n",
    "    for ir,r in enumerate(rs):\n",
    "        print(r, \" \", end='')\n",
    "        idata_r = np.where(data[:, -1] == r)[0]\n",
    "        data_r = data[idata_r,:]\n",
    "        \n",
    "        F = data_r[:,0]\n",
    "        T = data_r[:,1]\n",
    "        Y = data_r[:, 2:11]\n",
    "        C = Y[:,2] + Y[:,3] + Y[:,5] + Y[:,6]\n",
    "        \n",
    "        nf  = len(F)\n",
    "        rho = np.zeros(nf)\n",
    "        H   = np.zeros(nf)\n",
    "        for i in range(nf):\n",
    "            yy = np.zeros(gas.n_species)\n",
    "            yy[isp] = Y[i,:]\n",
    "            gas.TPY = T[i], P, yy\n",
    "            rho[i] = gas.density\n",
    "            H[i] = gas.enthalpy_mass\n",
    "\n",
    "        rho_av = np.mean(rho)\n",
    "        \n",
    "        F_fav[ir]  = np.mean(F*rho)/rho_av  if np.mean(F*rho)/rho_av >= 0.0 else 0.0\n",
    "        F_frms[ir] = np.sqrt(np.mean(rho*(F-F_fav[ir])**2)/rho_av)\n",
    "        T_fav[ir]  = np.mean(T*rho)/rho_av\n",
    "        C_fav[ir]  = np.mean(C*rho)/rho_av\n",
    "        H_fav[ir]  = np.mean(H*rho)/rho_av\n",
    "        for i in range(nsp):\n",
    "            Y_fav[ir, i] = np.mean(Y[:,i]*rho)/rho_av\n",
    "\n",
    "    #---------- save data file\n",
    "\n",
    "        data_to_save = np.column_stack([rs, F_fav, F_frms, C_fav, H_fav, T_fav, Y_fav])\n",
    "        header = \"# r, F, Frms, C, H, T, Yi...\"\n",
    "        fname = file+\"_proc\"\n",
    "        np.savetxt(fname, data_to_save, header=header, fmt=\"%12.5e\")\n",
    "        \n",
    "        \n",
    "            \n",
    "        \n",
    "\n",
    "        \n",
    "\n",
    "        \n",
    "\n",
    "        \n",
    "        \n",
    "        \n"
   ]
  },
  {
   "cell_type": "code",
   "execution_count": null,
   "id": "3542eadf-3f0d-4557-aa05-53889c0deefb",
   "metadata": {},
   "outputs": [],
   "source": []
  },
  {
   "cell_type": "code",
   "execution_count": null,
   "id": "a570bd75-1429-418e-8bb0-aac5bf262379",
   "metadata": {},
   "outputs": [],
   "source": []
  }
 ],
 "metadata": {
  "kernelspec": {
   "display_name": "Python 3 (ipykernel)",
   "language": "python",
   "name": "python3"
  },
  "language_info": {
   "codemirror_mode": {
    "name": "ipython",
    "version": 3
   },
   "file_extension": ".py",
   "mimetype": "text/x-python",
   "name": "python",
   "nbconvert_exporter": "python",
   "pygments_lexer": "ipython3",
   "version": "3.12.2"
  }
 },
 "nbformat": 4,
 "nbformat_minor": 5
}
