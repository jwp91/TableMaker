{
 "cells": [
  {
   "cell_type": "code",
   "execution_count": 12,
   "id": "7ec797b5-c84f-46a6-9aef-4777c7309270",
   "metadata": {},
   "outputs": [],
   "source": [
    "import numpy as np\n",
    "import matplotlib.pyplot as plt\n",
    "%matplotlib inline\n",
    "import cantera as ct"
   ]
  },
  {
   "cell_type": "code",
   "execution_count": 13,
   "id": "317d016b-cb40-4d0a-93ef-58869de43531",
   "metadata": {},
   "outputs": [],
   "source": [
    "data = np.loadtxt('data')\n",
    "gas = ct.Solution('gri30.yaml')"
   ]
  },
  {
   "cell_type": "code",
   "execution_count": 31,
   "id": "588eabef-5959-4771-b01d-d4586e34229b",
   "metadata": {},
   "outputs": [],
   "source": [
    "f = data[:,0]\n",
    "T = data[:,1]\n",
    "Y = data[:,2:11]\n",
    "P = 101325\n",
    "\n",
    "nf = len(f)\n",
    "\n",
    "spNames = ['O2', 'N2', 'H2', 'H2O', 'CH4', 'CO', 'CO2', 'OH', 'NO']\n",
    "isp = [gas.species_index(s) for s in spNames]\n",
    "\n",
    "#------ get rho\n",
    "\n",
    "rho = np.zeros(nf)\n",
    "for i in range(nf):\n",
    "    yy = np.zeros(gas.n_species)\n",
    "    yy[isp] = Y[i,:]\n",
    "    gas.TPY = T[i], P, yy\n",
    "    rho[i] = gas.density\n",
    "\n",
    "#------ get Favre average\n",
    "\n",
    "rhoAv = np.mean(rho)\n",
    "\n",
    "fFav = np.mean(f*rho)/rhoAv\n",
    "fFrms = np.sqrt(np.mean(rho*(f-fFav)**2)/rhoAv)\n",
    "    "
   ]
  },
  {
   "cell_type": "code",
   "execution_count": 16,
   "id": "b5544a5f-71a8-4110-82b8-2412e3828ccb",
   "metadata": {},
   "outputs": [
    {
     "data": {
      "text/plain": [
       "3"
      ]
     },
     "execution_count": 16,
     "metadata": {},
     "output_type": "execute_result"
    }
   ],
   "source": []
  }
 ],
 "metadata": {
  "kernelspec": {
   "display_name": "Python 3 (ipykernel)",
   "language": "python",
   "name": "python3"
  },
  "language_info": {
   "codemirror_mode": {
    "name": "ipython",
    "version": 3
   },
   "file_extension": ".py",
   "mimetype": "text/x-python",
   "name": "python",
   "nbconvert_exporter": "python",
   "pygments_lexer": "ipython3",
   "version": "3.12.2"
  }
 },
 "nbformat": 4,
 "nbformat_minor": 5
}
