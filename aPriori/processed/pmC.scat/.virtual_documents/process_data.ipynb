import numpy as np
import matplotlib.pyplot as plt
%matplotlib inline
import glob as glob
import cantera as ct


gas = ct.Solution('gri30.yaml')
files = glob.glob("*.Yall")
files = sorted(files)
P = 101325.0

spNames = ['O2', 'N2', 'H2', 'H2O', 'CH4', 'CO', 'CO2', 'OH', 'NO']
nsp = len(spNames)
isp = [gas.species_index(s) for s in spNames]

for file in files:
    print("\n", file, end='')
    data = np.loadtxt(file)
    rs = np.sort(list(set(data[:,-1])))
    print("\n   r: ", end='')

    nrs = len(rs)

    F_fav = np.zeros(nrs)
    F_frms = np.zeros(nrs)
    T_fav = np.zeros(nrs)
    C_fav = np.zeros(nrs)
    H_fav = np.zeros(nrs)
    Y_fav = np.zeros((nrs, nsp))
    
    for ir,r in enumerate(rs):
        print(r, " ", end='')
        idata_r = np.where(data[:, -1] == r)[0]
        data_r = data[idata_r,:]
        
        F = data_r[:,0]
        T = data_r[:,1]
        Y = data_r[:, 2:11]
        C = Y[:,2] + Y[:,3] + Y[:,5] + Y[:,6]
        
        nf  = len(F)
        rho = np.zeros(nf)
        H   = np.zeros(nf)
        for i in range(nf):
            yy = np.zeros(gas.n_species)
            yy[isp] = Y[i,:]
            gas.TPY = T[i], P, yy
            rho[i] = gas.density
            H[i] = gas.enthalpy_mass

        rho_av = np.mean(rho)
        
        F_fav[ir]  = np.mean(F*rho)/rho_av  if np.mean(F*rho)/rho_av >= 0.0 else 0.0
        F_frms[ir] = np.sqrt(np.mean(rho*(F-F_fav[ir])**2)/rho_av)
        T_fav[ir]  = np.mean(T*rho)/rho_av
        C_fav[ir]  = np.mean(C*rho)/rho_av
        H_fav[ir]  = np.mean(H*rho)/rho_av
        for i in range(nsp):
            Y_fav[ir, i] = np.mean(Y[:,i]*rho)/rho_av

    #---------- save data file

        data_to_save = np.column_stack([rs, F_fav, F_frms, C_fav, H_fav, T_fav, Y_fav])
        header = "# r, F, Frms, C, H, T, Yi..."
        fname = file+"_proc"
        np.savetxt(fname, data_to_save, header=header, fmt="%12.5e")
        
        
            
        

        

        

        
        
        



np.savetxt?



