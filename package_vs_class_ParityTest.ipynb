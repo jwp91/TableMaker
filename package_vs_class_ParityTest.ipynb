{
 "cells": [
  {
   "cell_type": "code",
   "execution_count": 1,
   "id": "55b46b04",
   "metadata": {},
   "outputs": [],
   "source": [
    "# Boilerplate\n",
    "import numpy as np\n",
    "import tmv3 as tm\n",
    "from tmv3 import Lt_from_hc_GammaChi  # Necessary when loading previously-saved function objects\n",
    "\n",
    "# Import changes from editing TableMaker\n",
    "import importlib\n",
    "importlib.reload(tm)\n",
    "\n",
    "assert callable(Lt_from_hc_GammaChi), \"Lt_from_hc_GammaChi must be callable\""
   ]
  },
  {
   "cell_type": "code",
   "execution_count": 2,
   "id": "d3f75c65",
   "metadata": {},
   "outputs": [
    {
     "data": {
      "text/plain": [
       "<module 'tmv3_class' from '/Users/cougar/jaredporter/inferno/codes/TableMakerMain/postGit/tmv3_class.py'>"
      ]
     },
     "execution_count": 2,
     "metadata": {},
     "output_type": "execute_result"
    }
   ],
   "source": [
    "import tmv3_class as tmv3c\n",
    "importlib.reload(tmv3c)"
   ]
  },
  {
   "cell_type": "code",
   "execution_count": 3,
   "id": "c11e872a",
   "metadata": {},
   "outputs": [],
   "source": [
    "##### Set parameters for the table\n",
    "numXim = 150\n",
    "ximLfrac = 0.2\n",
    "ximGfrac = 0.5\n",
    "numXiv = 30\n",
    "\n",
    "# Set filepath\n",
    "path = r'./data/ChiGammaTablev3'\n",
    "file_pattern = r'flm_.*.dat$'\n",
    "\n",
    "# Adjust data parameters (change depending on how ignis was run)\n",
    "tvals = np.arange(0,14,1)\n",
    "Lvals = np.arange(0,26,1)\n",
    "gammaValues = [0., 0.05, 0.1, 0.15, 0.2, 0.25, 0.3, 0.35, 0.4, 0.45, 0.5, 0.55, 0.60, 0.65]\n",
    "Lbounds = [min(Lvals), max(Lvals)]\n",
    "tbounds = [min(tvals), max(tvals)]\n",
    "path_to_hsens = './data/ChiGammaTablev3/hsens.dat'"
   ]
  },
  {
   "cell_type": "markdown",
   "id": "9b94c171",
   "metadata": {},
   "source": [
    "Test using the object-oriented version first..."
   ]
  },
  {
   "cell_type": "code",
   "execution_count": 4,
   "id": "85f217c7",
   "metadata": {},
   "outputs": [],
   "source": [
    "# Class for the table\n",
    "tableDemo = tmv3c.table(path, Lvals, tvals, nxim=5, nxiv=5, ximLfrac=ximLfrac, ximGfrac=ximGfrac,\n",
    "                        gammaValues=gammaValues, flmt_file_pattern=r'^flm.*.dat$')"
   ]
  },
  {
   "cell_type": "code",
   "execution_count": 5,
   "id": "2e2d60fa",
   "metadata": {},
   "outputs": [
    {
     "name": "stdout",
     "output_type": "stream",
     "text": [
      "Parsing flamelet data\n",
      "Parsing data files...\n",
      "Completed data import (parse_data)\n",
      "\n",
      "Beginning parallel table creation...\n",
      "phi_funcs for h created using 364 files.\n",
      "phi_funcs for c created using 364 files.\n",
      "phi_funcs for T created using 364 files.\n",
      "Creating phi_funcs for h...\n",
      "Creating phi_funcs for c...\n",
      "h table 0% complete.\n",
      "Creating phi_funcs for T...\n",
      "c table 0% complete.\n",
      "T table 0% complete.\n",
      "h table 20% complete.\n",
      "c table 20% complete.\n",
      "T table 20% complete.\n"
     ]
    },
    {
     "name": "stderr",
     "output_type": "stream",
     "text": [
      "/Users/cougar/jaredporter/inferno/codes/TableMakerMain/postGit/LiuInt.py:133: IntegrationWarning: The maximum number of subdivisions (50) has been achieved.\n",
      "  If increasing the limit yields no improvement it is advised to analyze \n",
      "  the integrand in order to determine the difficulties.  If the position of a \n",
      "  local difficulty can be determined (singularity, discontinuity) one will \n",
      "  probably gain from splitting up the interval and calling the integrator \n",
      "  on the subranges.  Perhaps a special-purpose integrator should be used.\n",
      "  p2 = quad(ϕP, ϵ, 1-ϵ, args = (a, b), points = [ξm,])[0]   # ϵ   < ξ < 1-ϵ\n"
     ]
    },
    {
     "name": "stdout",
     "output_type": "stream",
     "text": [
      "c table 40% complete.\n",
      "h table 40% complete.\n",
      "T table 40% complete.\n",
      "c table 60% complete.\n",
      "c table 80% complete.\n",
      "Lookup table for phi = c completed.\n",
      "h table 60% complete.\n",
      "T table 60% complete.\n",
      "h table 80% complete.\n",
      "Lookup table for phi = h completed.\n",
      "T table 80% complete.\n",
      "Lookup table for phi = T completed.\n"
     ]
    },
    {
     "data": {
      "text/plain": [
       "({'h': <function tmv3_class.table.phi_mvhc.<locals>.create_phi_table.<locals>.phi_table(xim, xiv, h, c, useStoredSolution=True, solver='gammachi', detailedWarn=False, maxIter=100, saveSolverStates=False, LstepParams=[0.25, 0.01, 0.003], tstepParams=[0.25, 9.5, 0.02])>,\n",
       "  'c': <function tmv3_class.table.phi_mvhc.<locals>.create_phi_table.<locals>.phi_table(xim, xiv, h, c, useStoredSolution=True, solver='gammachi', detailedWarn=False, maxIter=100, saveSolverStates=False, LstepParams=[0.25, 0.01, 0.003], tstepParams=[0.25, 9.5, 0.02])>,\n",
       "  'T': <function tmv3_class.table.phi_mvhc.<locals>.create_phi_table.<locals>.phi_table(xim, xiv, h, c, useStoredSolution=True, solver='gammachi', detailedWarn=False, maxIter=100, saveSolverStates=False, LstepParams=[0.25, 0.01, 0.003], tstepParams=[0.25, 9.5, 0.02])>},\n",
       " {})"
      ]
     },
     "execution_count": 5,
     "metadata": {},
     "output_type": "execute_result"
    }
   ],
   "source": [
    "# Create a temperature table\n",
    "tableDemo.phi_mvhc('T')"
   ]
  },
  {
   "cell_type": "markdown",
   "id": "aeba10d9",
   "metadata": {},
   "source": [
    "...then using the older package-based version."
   ]
  },
  {
   "cell_type": "code",
   "execution_count": 6,
   "id": "d712c1e0",
   "metadata": {},
   "outputs": [
    {
     "name": "stdout",
     "output_type": "stream",
     "text": [
      "Completed data import ('get_data_files')\n",
      "Beginning parallel table creation...\n",
      "phi_funcs for h created using 364 files.\n",
      "h table 0% complete.\n",
      "phi_funcs for c created using 364 files.\n",
      "c table 0% complete.\n",
      "phi_funcs for T created using 364 files.\n",
      "T table 0% complete.\n",
      "h table 20% complete.\n",
      "c table 20% complete.\n",
      "T table 20% complete.\n"
     ]
    },
    {
     "name": "stderr",
     "output_type": "stream",
     "text": [
      "/Users/cougar/jaredporter/inferno/codes/TableMakerMain/postGit/LiuInt.py:133: IntegrationWarning: The maximum number of subdivisions (50) has been achieved.\n",
      "  If increasing the limit yields no improvement it is advised to analyze \n",
      "  the integrand in order to determine the difficulties.  If the position of a \n",
      "  local difficulty can be determined (singularity, discontinuity) one will \n",
      "  probably gain from splitting up the interval and calling the integrator \n",
      "  on the subranges.  Perhaps a special-purpose integrator should be used.\n",
      "  p2 = quad(ϕP, ϵ, 1-ϵ, args = (a, b), points = [ξm,])[0]   # ϵ   < ξ < 1-ϵ\n"
     ]
    },
    {
     "name": "stdout",
     "output_type": "stream",
     "text": [
      "c table 40% complete.\n",
      "h table 40% complete.\n",
      "T table 40% complete.\n",
      "c table 60% complete.\n",
      "c table 80% complete.\n",
      "Lookup table for phi = c completed.\n",
      "h table 60% complete.\n",
      "T table 60% complete.\n",
      "h table 80% complete.\n",
      "Lookup table for phi = h completed.\n",
      "T table 80% complete.\n",
      "Lookup table for phi = T completed.\n"
     ]
    }
   ],
   "source": [
    "result_demo = tm.phi_mvhc(path, Lvals, tvals, file_pattern = file_pattern, phi = ['T'], \n",
    "                        numXim = 5, numXiv = 5, parallel = True,\n",
    "                        ximLfrac = ximLfrac, ximGfrac = ximGfrac)\n",
    "\n",
    "funcs_demo, tableInfo_demo = result_demo\n",
    "Tfunc_demo = funcs_demo[0]\n",
    "h_table_demo = tableInfo_demo[0][0]\n",
    "h_indices_demo = tableInfo_demo[0][1]\n",
    "c_table_demo = tableInfo_demo[1][0]\n",
    "c_indices_demo = tableInfo_demo[1][1]\n",
    "T_table_demo, T_indices_demo = tableInfo_demo[2][0], tableInfo_demo[2][1]"
   ]
  },
  {
   "cell_type": "markdown",
   "id": "8e279030",
   "metadata": {},
   "source": [
    "Now, figure out where the maximum discrepancy between the two is:"
   ]
  },
  {
   "cell_type": "code",
   "execution_count": 7,
   "id": "348c8a84",
   "metadata": {},
   "outputs": [
    {
     "name": "stderr",
     "output_type": "stream",
     "text": [
      "/Users/cougar/jaredporter/inferno/codes/TableMakerMain/postGit/LiuInt.py:133: IntegrationWarning: The maximum number of subdivisions (50) has been achieved.\n",
      "  If increasing the limit yields no improvement it is advised to analyze \n",
      "  the integrand in order to determine the difficulties.  If the position of a \n",
      "  local difficulty can be determined (singularity, discontinuity) one will \n",
      "  probably gain from splitting up the interval and calling the integrator \n",
      "  on the subranges.  Perhaps a special-purpose integrator should be used.\n",
      "  p2 = quad(ϕP, ϵ, 1-ϵ, args = (a, b), points = [ξm,])[0]   # ϵ   < ξ < 1-ϵ\n"
     ]
    },
    {
     "name": "stdout",
     "output_type": "stream",
     "text": [
      "Max absolute difference: 0.0 K\n",
      "Location of max difference: [0.5652136 0.1842965]\n"
     ]
    }
   ],
   "source": [
    "from scipy.optimize import differential_evolution\n",
    "import numpy as np\n",
    "\n",
    "h = 0.0\n",
    "c = 0.0\n",
    "\n",
    "def neg_abs_diff(mv):\n",
    "    xim, xivRel = mv\n",
    "    xim = np.clip(xim, 0.0, 1.0)\n",
    "    xivRel = np.clip(xivRel, 0.0, 1.0)\n",
    "    xiv = xim * (1 - xim) * xivRel\n",
    "\n",
    "    T1 = tableDemo.phi_mvhc_funcs['T'](xim, xiv, h, c)\n",
    "    T2 = Tfunc_demo(xim, xiv, h, c, gammaValues=gammaValues, path_to_hsens=path_to_hsens)\n",
    "\n",
    "    return -abs(T1 - T2)\n",
    "\n",
    "bounds = [(0.0, 1.0), (0.0, 1.0)]\n",
    "\n",
    "result = differential_evolution(neg_abs_diff, bounds, seed=0, \n",
    "                                maxiter=10, tol=1e-2)\n",
    "\n",
    "print(f\"Max absolute difference: {-result.fun} K\")\n",
    "print(\"Location of max difference:\", result.x)"
   ]
  },
  {
   "cell_type": "markdown",
   "id": "c58b9fae",
   "metadata": {},
   "source": [
    "Validate Differential Evolution's solution"
   ]
  },
  {
   "cell_type": "code",
   "execution_count": 8,
   "id": "0343b07b",
   "metadata": {},
   "outputs": [
    {
     "name": "stdout",
     "output_type": "stream",
     "text": [
      "T1 = [235.17307522], T2 = [235.17307522], Difference = [0.]\n"
     ]
    }
   ],
   "source": [
    "xim, xivRel = result.x\n",
    "xiv = xim * (1 - xim) * xivRel\n",
    "T1 = tableDemo.phi_mvhc_funcs['T'](xim, xiv, h, c)\n",
    "T2 = Tfunc_demo(xim, xiv, h, c, gammaValues=gammaValues, path_to_hsens=path_to_hsens)\n",
    "print(f\"T1 = {T1}, T2 = {T2}, Difference = {abs(T1 - T2)}\")"
   ]
  },
  {
   "cell_type": "markdown",
   "id": "c19b816d",
   "metadata": {},
   "source": [
    "Alternative iterative method for finding discrepancies"
   ]
  },
  {
   "cell_type": "code",
   "execution_count": 9,
   "id": "7407ec95",
   "metadata": {},
   "outputs": [],
   "source": [
    "ximArr = np.arange(0, 1, 97)\n",
    "xivArr = np.linspace(0, 1, 98)\n",
    "h = 0.0\n",
    "c = 0.0\n",
    "for i in range(len(ximArr)):\n",
    "    for j in range(len(xivArr)):\n",
    "        xim = ximArr[i]\n",
    "        xiv = xivArr[j]*xim*(1 - xim)\n",
    "\n",
    "        classVal = tableDemo.phi_mvhc_funcs['T'](xim, xiv, h, c)\n",
    "        pakijVal = Tfunc_demo(xim, xiv, h, c, gammaValues=gammaValues, path_to_hsens=path_to_hsens)\n",
    "        \n",
    "        if not np.isclose(classVal, pakijVal):\n",
    "            print(f\"Discrepancy found at xim={xim}, xiv={xiv}: classVal-pakijVal={classVal-pakijVal}\")\n",
    "            print()"
   ]
  },
  {
   "cell_type": "code",
   "execution_count": null,
   "id": "5c8ec8a5",
   "metadata": {},
   "outputs": [],
   "source": []
  }
 ],
 "metadata": {
  "kernelspec": {
   "display_name": "py312",
   "language": "python",
   "name": "python3"
  },
  "language_info": {
   "codemirror_mode": {
    "name": "ipython",
    "version": 3
   },
   "file_extension": ".py",
   "mimetype": "text/x-python",
   "name": "python",
   "nbconvert_exporter": "python",
   "pygments_lexer": "ipython3",
   "version": "3.12.7"
  }
 },
 "nbformat": 4,
 "nbformat_minor": 5
}
