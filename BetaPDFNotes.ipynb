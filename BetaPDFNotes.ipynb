{
 "cells": [
  {
   "cell_type": "markdown",
   "metadata": {},
   "source": [
    "# Introduction to the $\\beta$-PDF\n",
    "At a location in a given diffusion flame (i.e. known initial composition, strain, and time scale), the value of any flame parameter $\\phi$ (e.g. $T$, $\\rho$, etc.) is a function of the mixture fraction, $\\xi$. $\\xi$ is defined as what fraction of the mass in the flame originated from the fuel, with $\\xi = 1$ corresponding to pure fuel. In order to create a tabular version of table parameters, we need to determine the average values of flame parameters. The general formula for the statistical average of a value $\\phi = \\phi(\\xi)$ is given by\n",
    "$$\\int_{-\\infty}^{\\infty} \\phi(\\xi)*P(\\xi)d\\xi$$\n",
    "where $P(\\xi)$ is the probability distribution function desribing the probability of a given value of $\\xi$ occurring. In a diffusion flame like the one used to model the flame's chemistry, the distribution of $\\xi$ closely matches the shape of the $\\beta$-PDF, given by:\n",
    "$$f(x; \\alpha, \\beta) = \\frac{\\Gamma(\\alpha + \\beta)}{\\Gamma(\\alpha)\\Gamma(\\beta)}~x^{\\alpha-1}(1-x)^{\\beta-1}$$\n",
    "Qualitatively, the $\\beta$-PDF's behavior mathces diffusive mixing:"
   ]
  },
  {
   "cell_type": "markdown",
   "metadata": {},
   "source": [
    "#### Simulation Code"
   ]
  },
  {
   "cell_type": "code",
   "execution_count": 30,
   "metadata": {},
   "outputs": [],
   "source": [
    "import numpy as np\n",
    "import matplotlib.pyplot as plt\n",
    "import matplotlib.animation as animation\n",
    "from scipy.interpolate import interp1d\n",
    "import LiuInt as LI\n",
    "from IPython.display import HTML\n",
    "\n",
    "import importlib\n",
    "importlib.reload(LI)\n",
    "%matplotlib inline\n",
    "\n",
    "if input(\"Rerun simulation\")=='y':\n",
    "    #----- Model diffusive mixing\n",
    "    # Parameters\n",
    "    t_steps = 1000\n",
    "    n_points = 250\n",
    "    xmax = 100\n",
    "    ymax = 10\n",
    "    partitionLoc = int(xmax/2)  # Location of the partition as a fraction of the total domain\n",
    "    tLiftPartition = 20         # Time to lift the partition\n",
    "    maxStep = 3                 # Max step size for particles\n",
    "    fps = 24                    # Frames per second\n",
    "    histBins = 10               # Number of bins for the histogram\n",
    "\n",
    "    # Storage arrays\n",
    "    points = np.zeros([t_steps, n_points, 2])\n",
    "    partition = np.ones(t_steps)\n",
    "    partition[tLiftPartition:] = 0\n",
    "    xBounds = [0, partitionLoc]\n",
    "    yBounds = [0,ymax]\n",
    "\n",
    "    # Initialize the particles in the box\n",
    "    for i in range(n_points):\n",
    "        points[0][i] = [np.random.uniform(xBounds[0], xBounds[1]), np.random.uniform(yBounds[0], yBounds[1])]\n",
    "    mixf = np.ones(t_steps)*partitionLoc/xmax             # Mixture fraction ~= particle density\n",
    "    var = np.zeros(t_steps)\n",
    "\n",
    "    # Simulate diffusion in a box\n",
    "    for i in range(1, t_steps):\n",
    "        if not partition[i]:\n",
    "            xBounds = [0, xmax]\n",
    "        xsteps = np.random.uniform(-1, 1, n_points) * maxStep\n",
    "        ysteps = np.random.uniform(-1, 1, n_points) * maxStep\n",
    "        points[i, :, 0] = points[i-1, :, 0] + xsteps\n",
    "        points[i, :, 1] = points[i-1, :, 1] + ysteps\n",
    "        points[i, :, 0] = np.clip(points[i, :, 0], xBounds[0], xBounds[1])\n",
    "        points[i, :, 1] = np.clip(points[i, :, 1], yBounds[0], yBounds[1])\n",
    "        var[i] = np.var(points[i, :, 0])\n",
    "\n",
    "    # Mixture fraction variance is at its minimum (0) when the particles' variance is at its maximum\n",
    "    # Mixture fraction variance is at its maximum (mixf*(1-mixf)) when the particles' variance is at its minimum\n",
    "    var = (var-np.min(var))/(np.max(var) - np.min(var))  # Scale the variance to [0,1]\n",
    "    maxVar = mixf*(1-mixf)                               # Maximum variance for each mixture fraction\n",
    "    var = (1-var)*maxVar                                 # Scale the variance to the maximum variance\n",
    "\n",
    "    # Animate the diffusion in time using matplotlib.animation\n",
    "    fig, (ax1, ax2, ax3) = plt.subplots(3, 1, figsize=(8, 5))\n",
    "\n",
    "    def update_plot(i):\n",
    "        ax1.clear()\n",
    "        ax2.clear()\n",
    "        ax3.clear()\n",
    "        \n",
    "        ax1.scatter(points[i, :, 0], points[i, :, 1], marker = '.')\n",
    "        if partition[i]:\n",
    "            ax1.axvline(x=partitionLoc, color='r')\n",
    "        ax1.set_title(\"Diffusion\")\n",
    "        ax1.set_xticks(xBounds)\n",
    "        ax1.set_xticklabels([0, 1])\n",
    "        ax1.set_xlim(xBounds)\n",
    "        ax1.set_xlabel(\"x\")\n",
    "        ax1.set_ylim(yBounds)\n",
    "        ax1.set_yticks([])\n",
    "        ax1.set_ylabel(\"y\", rotation=0, labelpad=15)\n",
    "        ax1.set_aspect('equal')\n",
    "        # Plot a histogram of the particle count\n",
    "        ax2.hist(points[i, :, 0], bins=histBins, range=(0, xmax))\n",
    "        ax2.set_xticks(xBounds)\n",
    "        ax2.set_xticklabels([0, 1])\n",
    "        ax2.set_xlim(xBounds)\n",
    "        ax2.set_xlabel(\"x\")\n",
    "        ax2.set_ylabel(\"Frequency\")\n",
    "        ax2.set_yticks([])\n",
    "        # Plot the beta PDF\n",
    "        xs = np.linspace(0,1,10000)\n",
    "        Ps = [LI.bPdf(x, mixf[i], var[i]) for x in xs]\n",
    "        ax3.plot(xs, Ps)\n",
    "        ax3.set_xlabel(r\"Mixture Fraction ($\\xi$)\")\n",
    "        ax3.set_xlim([-0.01, 1.01])\n",
    "        ax3.set_ylabel(r\"$P(\\xi)$\", rotation=0, labelpad=15)\n",
    "        ax3.set_yticks([])\n",
    "        fig.tight_layout()\n",
    "        \n",
    "    #update_plot(0)\n",
    "    #plt.show()\n",
    "\n",
    "    interval = 1000/fps  # ms per frame\n",
    "    ani = animation.FuncAnimation(fig, update_plot, frames=t_steps, interval=interval, blit = False)\n",
    "    ani.save(\"diffusion.gif\", writer='pillow')"
   ]
  },
  {
   "cell_type": "markdown",
   "metadata": {},
   "source": [
    "#### Simulation Result"
   ]
  },
  {
   "cell_type": "code",
   "execution_count": 29,
   "metadata": {},
   "outputs": [
    {
     "data": {
      "text/html": [
       "<img src=\"diffusion.gif\">"
      ],
      "text/plain": [
       "<IPython.core.display.HTML object>"
      ]
     },
     "execution_count": 29,
     "metadata": {},
     "output_type": "execute_result"
    }
   ],
   "source": [
    "HTML('<img src=\"diffusion.gif\">')"
   ]
  },
  {
   "cell_type": "markdown",
   "metadata": {},
   "source": [
    "## Binomial Distribution\n",
    "* (useful for understanding beta distribution)\n",
    "* Describes the probabilities of success or failure in an experiment with 2 possible values that is repeated multiple times. Examples:\n",
    "    *  Simple: Coin toss. \"How likely is it to toss heads 5/9 times?\n",
    "    *  Complex: Sandwiches. \"If there's a 70% likelihood that a given customer in the shop buys a chicken sandwich, what's the probability that 2/3 next customers choose chicken?\"\n",
    "*  Probability of a scenario where the desired outcome occurrs = $P(X) = p^k(1-p)^{(n-k)}$ where\n",
    "    * **p** is the probability of the desired outcome (70%)\n",
    "    * __k__ is the number of those outcomes we want (2)\n",
    "    * **n** is the total number of trials (3)\n",
    "* Possible # of scenarios with desired outcome = ${n \\choose k} = \\frac{n!}{k!(n-k)!} $ where\n",
    "    * **k** is the number of outcomes we're selecting (2) from\n",
    "    * **n** the total number of outcomes (3)\n",
    "### Generalized Binomial Probability Formula:\n",
    "   $$P(\\mathrm{k~out~of~n}) = \\frac{n!}{k!(n-k)!}p^k(1-p)^{(n-k)}$$\n",
    "\n",
    " * Variance: $\\sigma^2 = np(1-p)$ where\n",
    "     * n = Number of trials\n",
    "     * p = Probability of success\n",
    " * Std. Deviation := $\\sqrt{\\sigma^2} = \\sigma$"
   ]
  },
  {
   "cell_type": "markdown",
   "metadata": {
    "tags": []
   },
   "source": [
    "## Gamma Function\n",
    "* Function \"stitching together\" all integer values of the factorial function:\n",
    "$$ \\Gamma(n) = (n-1)! = \\int_0^\\infty t^{z-1}e^{-t}dt $$\n",
    "* The derivation of the formula is nasty, but the plot looks like this:\n",
    "<div>\n",
    "    <p style=\"text-align:center;\"><img src = https://upload.wikimedia.org/wikipedia/commons/5/52/Gamma_plot.svg alt = \"Gamma Function\" width = \"400\" ></p>\n",
    "</div>\n",
    "\n"
   ]
  },
  {
   "cell_type": "markdown",
   "metadata": {
    "tags": []
   },
   "source": [
    "## Beta Function\n",
    "The Beta Function is defined as\n",
    "$$ B(\\alpha, \\beta) = \\int_0^1t^{\\alpha-1}(1-t)^{\\beta-1}dt = \\frac{\\Gamma(\\alpha)\\Gamma(\\beta)}{\\Gamma(\\alpha + \\beta)}$$\n",
    "where $z_1, z_2 > 0$. It is useful for constructing the Beta Distribution:\n",
    "## Beta Distribution\n",
    "$$f(x; \\alpha, \\beta) = \\frac{1}{B(\\alpha, \\beta)}~x^{\\alpha-1}(1-x)^{\\beta-1} = \\frac{\\Gamma(\\alpha + \\beta)}{\\Gamma(\\alpha)\\Gamma(\\beta)}~x^{\\alpha-1}(1-x)^{\\beta-1}$$\n",
    "* Reading each piece:\n",
    "    * $x^{\\alpha-1}(1-x)^{\\beta-1}$ describes the likelihood of x occurring\n",
    "    * $\\frac{\\Gamma(\\alpha + \\beta)}{\\Gamma(\\alpha)\\Gamma(\\beta)} = \\frac{1}{B(\\alpha, \\beta)}$ is a normalizing factor and ensures the total probability is 1\n",
    "* Key difference between beta and binomial distributions: \n",
    "    * Binomial is a function of desired outcomes (fixed probability) and the number of possible outcomes\n",
    "    * Beta is a function of the probability of two outcomes. \n",
    "* Conceptualizing: \n",
    "    * $\\alpha - 1$ can be thought of as the # of observed successes\n",
    "    * $\\beta -1$ can be thought of as the # of observed failures\n",
    "    * As $\\alpha, \\beta$ increase, the PDF narrows because of increased certainty about the system\n",
    "![Animated Beta Distribution PDF](https://upload.wikimedia.org/wikipedia/commons/7/78/PDF_of_the_Beta_distribution.gif)\n",
    "\n",
    "<div>\n",
    "    <p style=\"text-align:center;\"><img src = https://upload.wikimedia.org/wikipedia/commons/f/f3/Beta_distribution_pdf.svg alt = \"Beta Distribution PDF - Set Values\" width = \"400\" ></p>\n",
    "</div>\n",
    "\n",
    "[Beta Distribution Calculator](https://homepage.divms.uiowa.edu/~mbognar/applets/beta.html)"
   ]
  },
  {
   "cell_type": "markdown",
   "metadata": {},
   "source": [
    "\n",
    "\n",
    "## *Sources:*\n",
    "* https://towardsdatascience.com/beta-distribution-intuition-examples-and-derivation-cf00f4db57af\n",
    "* https://en.wikipedia.org/wiki/Beta_distribution\n",
    "* https://en.wikipedia.org/wiki/Beta_function\n",
    "* https://en.wikipedia.org/wiki/Gamma_function"
   ]
  },
  {
   "cell_type": "code",
   "execution_count": null,
   "metadata": {},
   "outputs": [],
   "source": []
  }
 ],
 "metadata": {
  "kernelspec": {
   "display_name": "py312",
   "language": "python",
   "name": "python3"
  },
  "language_info": {
   "codemirror_mode": {
    "name": "ipython",
    "version": 3
   },
   "file_extension": ".py",
   "mimetype": "text/x-python",
   "name": "python",
   "nbconvert_exporter": "python",
   "pygments_lexer": "ipython3",
   "version": "3.12.7"
  }
 },
 "nbformat": 4,
 "nbformat_minor": 4
}
